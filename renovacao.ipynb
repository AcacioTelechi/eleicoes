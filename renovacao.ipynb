{
 "cells": [
  {
   "cell_type": "code",
   "execution_count": 1,
   "metadata": {},
   "outputs": [],
   "source": [
    "import pandas as pd\n",
    "import json\n",
    "from unidecode import unidecode"
   ]
  },
  {
   "cell_type": "code",
   "execution_count": 2,
   "metadata": {},
   "outputs": [],
   "source": [
    "def trat_nome(nome):\n",
    "    nome_trat = unidecode(nome).upper().strip()\n",
    "    return nome_trat"
   ]
  },
  {
   "cell_type": "code",
   "execution_count": 29,
   "metadata": {},
   "outputs": [
    {
     "name": "stderr",
     "output_type": "stream",
     "text": [
      "d:\\Python\\lib\\site-packages\\openpyxl\\styles\\stylesheet.py:226: UserWarning: Workbook contains no default style, apply openpyxl's default\n",
      "  warn(\"Workbook contains no default style, apply openpyxl's default\")\n"
     ]
    }
   ],
   "source": [
    "# bases\n",
    "candidatos_hist = pd.read_excel('./db/deps_federais/deps_federais_2010_2022.xlsx')\n",
    "candidatos_2022 = candidatos_hist[candidatos_hist['ANO_ELEICAO'] == 2022].reset_index()\n",
    "\n",
    "eleitos = pd.read_excel('./db/eleicoes.xlsx')\n",
    "\n",
    "df_parls = pd.read_excel('./db/deps_federais/deputados.xlsx')\n",
    "df_parls_56 = df_parls[df_parls['idLegislaturaFinal'] == 56].reset_index()\n",
    "\n",
    "with open('./db/deps_federais/parlamentares.json', 'r', encoding=\"UTF-8\") as f:\n",
    "    parls_ativos = json.load(f)\n",
    "df_parls_ativos = pd.DataFrame(parls_ativos)"
   ]
  },
  {
   "cell_type": "code",
   "execution_count": 30,
   "metadata": {},
   "outputs": [],
   "source": [
    "# tratar nomes\n",
    "candidatos_2022['nome_urna_trat'] = candidatos_2022['NM_URNA_CANDIDATO'].apply(trat_nome)\n",
    "candidatos_2022['nome_trat'] = candidatos_2022['NM_CANDIDATO'].apply(trat_nome)\n",
    "\n",
    "eleitos['nome_trat'] = eleitos['nome'].apply(trat_nome)\n",
    "\n",
    "df_parls_56['nome_civil_trat'] = df_parls_56['nomeCivil'].apply(trat_nome)\n",
    "df_parls_56['nome_trat'] = df_parls_56['nome'].apply(trat_nome)\n",
    "df_parls_56['id'] = df_parls_56['uri'].apply(lambda x: int(x.split('/')[-1]))"
   ]
  },
  {
   "cell_type": "code",
   "execution_count": 31,
   "metadata": {},
   "outputs": [],
   "source": [
    "# base precisou ser tratada manualmente\n",
    "eleitos_merged = eleitos.merge(candidatos_2022[['nome_urna_trat', 'ST_REELEICAO']], left_on='nome_trat', right_on='nome_urna_trat', how='left')\n",
    "eleitos_merged.to_excel('./db/eleitos_merged.xlsx')\n",
    "eleitos_trat = pd.read_excel('./db/eleitos_merged_trat.xlsx')"
   ]
  },
  {
   "cell_type": "markdown",
   "metadata": {},
   "source": [
    "RENOVAÇÃO"
   ]
  },
  {
   "cell_type": "code",
   "execution_count": 32,
   "metadata": {},
   "outputs": [],
   "source": [
    "def is_candidate(nome):\n",
    "    cand_n_urna = list(candidatos_2022['nome_urna_trat'])\n",
    "    cand_n = list(candidatos_2022['nome_trat'])\n",
    "    return nome in cand_n or nome in cand_n_urna"
   ]
  },
  {
   "cell_type": "code",
   "execution_count": 33,
   "metadata": {},
   "outputs": [],
   "source": [
    "# dados mensurar withdrawal\n",
    "\n",
    "df_parls_ativos_merged = df_parls_ativos.merge(df_parls_56[['id', 'nome_civil_trat']], on='id')\n",
    "df_parls_ativos_merged['is_cand'] = df_parls_ativos_merged['nome_civil_trat'].apply(is_candidate)"
   ]
  },
  {
   "cell_type": "code",
   "execution_count": 34,
   "metadata": {},
   "outputs": [],
   "source": [
    "# # dados para mensurar defeated (HÁ PROBLEMAS NO BATIMETO COM OS NOMES... POR ISSO VOU USAR A BASE TRATADA MANUALMENTE)\n",
    "# df_parls_ativos_cand = df_parls_ativos_merged[df_parls_ativos_merged['is_cand']].reset_index(drop=True)\n",
    "# df_parls_ativos_cand['nome_trat'] = df_parls_ativos_cand['nome'].apply(trat_nome)\n",
    "# df_parls_ativos_cand['is_elected'] = df_parls_ativos_cand['nome_trat'].apply(lambda x: x in list(eleitos['nome_trat']))"
   ]
  },
  {
   "cell_type": "code",
   "execution_count": 35,
   "metadata": {},
   "outputs": [],
   "source": [
    "n = len(eleitos_trat[eleitos_trat['ST_REELEICAO'] == 'N'])\n",
    "r = len(eleitos_trat[eleitos_trat['ST_REELEICAO'] == 'S'])\n",
    "w = len(df_parls_ativos_merged[~df_parls_ativos_merged['is_cand']])\n",
    "t = len(eleitos_trat)"
   ]
  },
  {
   "cell_type": "code",
   "execution_count": 36,
   "metadata": {},
   "outputs": [],
   "source": [
    "renov_bruta = n / (n + r)\n",
    "renov_com = w / t\n"
   ]
  },
  {
   "cell_type": "code",
   "execution_count": 37,
   "metadata": {},
   "outputs": [],
   "source": [
    "d = t * (renov_bruta - renov_com)"
   ]
  },
  {
   "cell_type": "code",
   "execution_count": 42,
   "metadata": {},
   "outputs": [],
   "source": [
    "renov_liq = d / (d + r)\n",
    "conservacao = r / (d + r)"
   ]
  },
  {
   "cell_type": "code",
   "execution_count": 43,
   "metadata": {},
   "outputs": [
    {
     "name": "stdout",
     "output_type": "stream",
     "text": [
      "\n",
      "Renovação bruta: 44.25\n",
      "Renovação compulsória: 14.42\n",
      "Renovação líquida: 34.85\n",
      "Conservação: 65.15\n",
      "\n"
     ]
    }
   ],
   "source": [
    "print(f\"\"\"\n",
    "Renovação bruta: {round(renov_bruta * 100, 2)}\n",
    "Renovação compulsória: {round(renov_com * 100, 2)}\n",
    "Renovação líquida: {round(renov_liq * 100, 2)}\n",
    "Conservação: {round(conservacao * 100 ,2)}\n",
    "\"\"\")"
   ]
  },
  {
   "cell_type": "code",
   "execution_count": 40,
   "metadata": {},
   "outputs": [
    {
     "data": {
      "text/plain": [
       "513"
      ]
     },
     "execution_count": 40,
     "metadata": {},
     "output_type": "execute_result"
    }
   ],
   "source": [
    "t"
   ]
  }
 ],
 "metadata": {
  "kernelspec": {
   "display_name": "Python 3.10.5 64-bit",
   "language": "python",
   "name": "python3"
  },
  "language_info": {
   "codemirror_mode": {
    "name": "ipython",
    "version": 3
   },
   "file_extension": ".py",
   "mimetype": "text/x-python",
   "name": "python",
   "nbconvert_exporter": "python",
   "pygments_lexer": "ipython3",
   "version": "3.10.5"
  },
  "orig_nbformat": 4,
  "vscode": {
   "interpreter": {
    "hash": "2469a70536e4d2335a2ea8907942d0699c37342a371ac185bdb5b0aa6f073890"
   }
  }
 },
 "nbformat": 4,
 "nbformat_minor": 2
}

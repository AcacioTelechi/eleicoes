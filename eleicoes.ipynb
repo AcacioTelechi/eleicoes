{
 "cells": [
  {
   "cell_type": "code",
   "execution_count": 1,
   "metadata": {},
   "outputs": [],
   "source": [
    "import os\n",
    "import pandas as pd\n",
    "import matplotlib.pyplot as plt"
   ]
  },
  {
   "cell_type": "code",
   "execution_count": 17,
   "metadata": {},
   "outputs": [],
   "source": [
    "arqvs = os.listdir('./db')"
   ]
  },
  {
   "cell_type": "code",
   "execution_count": 21,
   "metadata": {},
   "outputs": [
    {
     "name": "stderr",
     "output_type": "stream",
     "text": [
      "C:\\Users\\caca_\\AppData\\Local\\Temp\\ipykernel_13632\\2014306285.py:3: DtypeWarning: Columns (57) have mixed types. Specify dtype option on import or set low_memory=False.\n",
      "  file = pd.read_csv('./db/' + arqv, encoding='latin1', delimiter=';')\n",
      "C:\\Users\\caca_\\AppData\\Local\\Temp\\ipykernel_13632\\2014306285.py:3: DtypeWarning: Columns (20) have mixed types. Specify dtype option on import or set low_memory=False.\n",
      "  file = pd.read_csv('./db/' + arqv, encoding='latin1', delimiter=';')\n"
     ]
    }
   ],
   "source": [
    "df = pd.DataFrame()\n",
    "for arqv in arqvs:\n",
    "    file = pd.read_csv('./db/' + arqv, encoding='latin1', delimiter=';')\n",
    "    df_dep_fed = file[file['DS_CARGO'] == 'DEPUTADO FEDERAL']\n",
    "    df = pd.concat([df, df_dep_fed])\n",
    "df.to_excel('./db/deps_federais/deps_federais_2010_2022.xlsx', index=False)"
   ]
  },
  {
   "cell_type": "markdown",
   "metadata": {},
   "source": [
    "# Raca"
   ]
  },
  {
   "cell_type": "code",
   "execution_count": 2,
   "metadata": {},
   "outputs": [],
   "source": [
    "df = pd.read_excel('./db/deps_federais/deps_federais_2010_2022.xlsx')"
   ]
  },
  {
   "cell_type": "code",
   "execution_count": 24,
   "metadata": {},
   "outputs": [],
   "source": []
  },
  {
   "cell_type": "code",
   "execution_count": 37,
   "metadata": {},
   "outputs": [],
   "source": [
    "df_raca = df[df['DS_COR_RACA'] != '#NE#']"
   ]
  },
  {
   "cell_type": "code",
   "execution_count": null,
   "metadata": {},
   "outputs": [],
   "source": []
  }
 ],
 "metadata": {
  "kernelspec": {
   "display_name": "Python 3.10.5 64-bit",
   "language": "python",
   "name": "python3"
  },
  "language_info": {
   "codemirror_mode": {
    "name": "ipython",
    "version": 3
   },
   "file_extension": ".py",
   "mimetype": "text/x-python",
   "name": "python",
   "nbconvert_exporter": "python",
   "pygments_lexer": "ipython3",
   "version": "3.10.5"
  },
  "orig_nbformat": 4,
  "vscode": {
   "interpreter": {
    "hash": "2469a70536e4d2335a2ea8907942d0699c37342a371ac185bdb5b0aa6f073890"
   }
  }
 },
 "nbformat": 4,
 "nbformat_minor": 2
}
